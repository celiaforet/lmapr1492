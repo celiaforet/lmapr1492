{
 "cells": [
  {
   "cell_type": "markdown",
   "metadata": {},
   "source": [
    "# Etude de la structure du matériau"
   ]
  },
  {
   "cell_type": "code",
   "execution_count": 8,
   "metadata": {},
   "outputs": [],
   "source": [
    "from pymatgen.ext.matproj import MPRester\n",
    "from pymatgen.io.cif import CifParser\n",
    "from pymatgen import Lattice \n",
    "from IPython.display import Image, Math, Latex\n",
    "from pymatgen.symmetry.analyzer import SpacegroupAnalyzer\n",
    "with MPRester(\"Jqka7RaOKJvTC6iABC\") as me:    \n",
    "    \n",
    "    # Téléchargement du fichier CIF\n",
    "    # Structure for material id\n",
    "    pars = CifParser(\"mp9368.cif\")\n",
    "    struct = pars.get_structures()[0]"
   ]
  },
  {
   "cell_type": "markdown",
   "metadata": {},
   "source": [
    "## Structure de la molécule\n",
    "Le cristal RbTmS2 (mp-9368) a un système cristallin trigonal (rhombohédrique). Ainsi, les longueurs des vecteurs et les angles entre ceux-ci sont égaux : \n",
    "$$a = b = c \\text{et} \\alpha=\\beta=\\gamma=90°$$"
   ]
  },
  {
   "cell_type": "code",
   "execution_count": 11,
   "metadata": {},
   "outputs": [
    {
     "name": "stdout",
     "output_type": "stream",
     "text": [
      "Full Formula (Rb1 Tm1 S2)\n",
      "Reduced Formula: RbTmS2\n",
      "abc   :   4.027018   4.027018   8.014204\n",
      "angles:  75.448950  75.448950  60.000000\n",
      "Sites (4)\n",
      "  #  SP           a         b         c\n",
      "---  ----  --------  --------  --------\n",
      "  0  Rb    0         0         0\n",
      "  1  Tm    0.5       0.5       0.5\n",
      "  2  S     0.770112  0.770112  0.689664\n",
      "  3  S     0.229888  0.229888  0.310336\n"
     ]
    }
   ],
   "source": [
    "print(struct)"
   ]
  },
  {
   "cell_type": "markdown",
   "metadata": {},
   "source": [
    "## Vecteurs de base du réseau direct"
   ]
  },
  {
   "cell_type": "code",
   "execution_count": 12,
   "metadata": {},
   "outputs": [
    {
     "name": "stdout",
     "output_type": "stream",
     "text": [
      "Vecteurs a, b, c du réseau direct :\n",
      "a = [ 1.81761363  3.44811499 -1.01175801]\n",
      "b = [ 3.89784765 -0.         -1.01175801]\n",
      "c = [-0.         -0.         -8.01420417]\n",
      "Longueurs des vecteurs de base (a,b,c) : 8.014\n",
      "Angles entre les vecteurs de base (alpha,beta,gamma) : 29.102000000000025\n"
     ]
    }
   ],
   "source": [
    "vect_base = struct.lattice\n",
    "latt = Lattice.rhombohedral(8.014,29.102)\n",
    "vb = struct.lattice.matrix\n",
    "lb = latt.a # longueur des vecteurs de base\n",
    "ab = latt.gamma # angle entre les vecteurs de base\n",
    "print(\"Vecteurs a, b, c du réseau direct :\")\n",
    "print(\"a =\", vb[0])\n",
    "print(\"b =\", vb[1])\n",
    "print(\"c =\", vb[2])\n",
    "print (\"Longueurs des vecteurs de base (a,b,c) :\", lb)\n",
    "print (\"Angles entre les vecteurs de base (alpha,beta,gamma) :\", ab)"
   ]
  },
  {
   "cell_type": "markdown",
   "metadata": {},
   "source": [
    "## Vecteurs de base du réseau réciproque"
   ]
  },
  {
   "cell_type": "code",
   "execution_count": 14,
   "metadata": {},
   "outputs": [
    {
     "name": "stdout",
     "output_type": "stream",
     "text": [
      "Vecteurs a*, b*, c* du réseau réciproque :\n",
      "a* = [ 1.81761363  3.44811499 -1.01175801]\n",
      "b* = [ 3.89784765 -0.         -1.01175801]\n",
      "c* = [-0.         -0.         -8.01420417]\n",
      "Longueurs des vecteurs du réseau réciproque (a*,b*,c*) : 1.8222611300089784\n",
      "Angles entre les vecteurs du réseau réciproque (alpha,beta,gamma) : 117.79518937363112\n"
     ]
    }
   ],
   "source": [
    "vect_recip= latt.reciprocal_lattice\n",
    "vr = latt.reciprocal_lattice.matrix\n",
    "lr = vect_recip.a # longueur des vecteurs du réseau réciproque\n",
    "ar = vect_recip.gamma # angle entre les vecteurs du réseau réciproque\n",
    "print(\"Vecteurs a*, b*, c* du réseau réciproque :\")\n",
    "print(\"a* =\", vb[0])\n",
    "print(\"b* =\", vb[1])\n",
    "print(\"c* =\", vb[2])\n",
    "print (\"Longueurs des vecteurs du réseau réciproque (a*,b*,c*) :\", lr)\n",
    "print (\"Angles entre les vecteurs du réseau réciproque (alpha,beta,gamma) :\", ar)"
   ]
  },
  {
   "cell_type": "markdown",
   "metadata": {},
   "source": [
    "## Type de maille"
   ]
  },
  {
   "cell_type": "code",
   "execution_count": 15,
   "metadata": {},
   "outputs": [
    {
     "name": "stdout",
     "output_type": "stream",
     "text": [
      "Le type de maille du RbTmS2 est :  rhombohedral\n"
     ]
    }
   ],
   "source": [
    "st=SpacegroupAnalyzer(struct)\n",
    "print(\"Le type de maille du RbTmS2 est : \",st.get_lattice_type())"
   ]
  },
  {
   "cell_type": "markdown",
   "metadata": {},
   "source": [
    "## Système cristallin "
   ]
  },
  {
   "cell_type": "code",
   "execution_count": 16,
   "metadata": {},
   "outputs": [
    {
     "name": "stdout",
     "output_type": "stream",
     "text": [
      "Le système cristallin du RbTmS2 est : trigonal\n"
     ]
    }
   ],
   "source": [
    "print(\"Le système cristallin du RbTmS2 est :\",st.get_crystal_system())"
   ]
  },
  {
   "cell_type": "markdown",
   "metadata": {},
   "source": [
    "## Groupe ponctuel"
   ]
  },
  {
   "cell_type": "code",
   "execution_count": 17,
   "metadata": {},
   "outputs": [
    {
     "name": "stdout",
     "output_type": "stream",
     "text": [
      "Le groupe ponctuel du RbTmS2 est : R-3m\n"
     ]
    }
   ],
   "source": [
    "print(\"Le groupe ponctuel du RbTmS2 est :\",st.get_space_group_symbol())"
   ]
  }
 ],
 "metadata": {
  "kernelspec": {
   "display_name": "Python 3",
   "language": "python",
   "name": "python3"
  },
  "language_info": {
   "codemirror_mode": {
    "name": "ipython",
    "version": 3
   },
   "file_extension": ".py",
   "mimetype": "text/x-python",
   "name": "python",
   "nbconvert_exporter": "python",
   "pygments_lexer": "ipython3",
   "version": "3.6.8"
  }
 },
 "nbformat": 4,
 "nbformat_minor": 2
}
